{
 "cells": [
  {
   "cell_type": "code",
   "execution_count": 1,
   "metadata": {},
   "outputs": [
    {
     "name": "stdout",
     "output_type": "stream",
     "text": [
      "2443 2961 3178 "
     ]
    }
   ],
   "source": [
    "list = [10,5000,2500,3200,1999,20000,1200,2333,2443,2961,2975,3178,4823]\n",
    "for x in list :\n",
    "    if x in range(2000,3200) and x % 5 != 0 and x % 7 == 0 :\n",
    "            print(x , end=\" \")"
   ]
  },
  {
   "cell_type": "code",
   "execution_count": 2,
   "metadata": {},
   "outputs": [
    {
     "name": "stdout",
     "output_type": "stream",
     "text": [
      "Tapez un entier (entier par défaut :8) : \n",
      "40320\n"
     ]
    }
   ],
   "source": [
    "fact = 1\n",
    "n = int(input(\"Tapez un entier (entier par défaut :8) : \") or 8)\n",
    "for i in range(1,n+1) : \n",
    "    fact = fact * i\n",
    "print(fact)"
   ]
  },
  {
   "cell_type": "code",
   "execution_count": 3,
   "metadata": {},
   "outputs": [
    {
     "name": "stdout",
     "output_type": "stream",
     "text": [
      "Tapez un entier (entier par défaut : 1) : \n",
      "{1: 1}\n"
     ]
    }
   ],
   "source": [
    "n = int(input(\"Tapez un entier (entier par défaut : 1) : \") or 1)\n",
    "d = {}\n",
    "for i in range(1,n+1) : \n",
    "    d.update({i : i*i})\n",
    "print(d)"
   ]
  },
  {
   "cell_type": "code",
   "execution_count": 4,
   "metadata": {},
   "outputs": [
    {
     "data": {
      "text/plain": [
       "'waid'"
      ]
     },
     "execution_count": 4,
     "metadata": {},
     "output_type": "execute_result"
    }
   ],
   "source": [
    "def missing_char(str,n):\n",
    "    return str[:n]+str[n+1:]\n",
    "missing_char(\"walid\",2)"
   ]
  },
  {
   "cell_type": "code",
   "execution_count": 5,
   "metadata": {},
   "outputs": [
    {
     "name": "stdout",
     "output_type": "stream",
     "text": [
      "[[0, 1], [2, 3], [4, 5]]\n"
     ]
    }
   ],
   "source": [
    "import numpy as np\n",
    "x=np.array([[0,1],[2,3],[4,5]]).tolist()\n",
    "print(x)"
   ]
  },
  {
   "cell_type": "code",
   "execution_count": 6,
   "metadata": {},
   "outputs": [
    {
     "name": "stdout",
     "output_type": "stream",
     "text": [
      "[[ 1. -1.]\n",
      " [-1.  1.]]\n"
     ]
    }
   ],
   "source": [
    "import numpy as np\n",
    "a = [0,1,2]\n",
    "b = [2,1,0]\n",
    "print(np.cov(a,b))"
   ]
  },
  {
   "cell_type": "code",
   "execution_count": 7,
   "metadata": {},
   "outputs": [
    {
     "name": "stdout",
     "output_type": "stream",
     "text": [
      "100,150,180\n",
      "18 22 24 "
     ]
    }
   ],
   "source": [
    "import numpy as  np\n",
    "d=input()\n",
    "d=d.split(\",\")\n",
    "for x in d :\n",
    "    c=50\n",
    "    h=30\n",
    "    eq=2*c*int(x)/h\n",
    "    q = int(round(np.sqrt(eq)))\n",
    "    print(q, end=\" \")"
   ]
  }
 ],
 "metadata": {
  "kernelspec": {
   "display_name": "Python 3",
   "language": "python",
   "name": "python3"
  },
  "language_info": {
   "codemirror_mode": {
    "name": "ipython",
    "version": 3
   },
   "file_extension": ".py",
   "mimetype": "text/x-python",
   "name": "python",
   "nbconvert_exporter": "python",
   "pygments_lexer": "ipython3",
   "version": "3.7.6"
  }
 },
 "nbformat": 4,
 "nbformat_minor": 4
}
